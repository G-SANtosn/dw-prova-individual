{
  "cells": [
    {
      "cell_type": "markdown",
      "metadata": {
        "id": "z9BMPai_bVKO"
      },
      "source": [
        "# Instalando as bibliotecas usadas"
      ]
    },
    {
      "cell_type": "markdown",
      "metadata": {
        "id": "xmlBcx8KbVKP"
      },
      "source": [
        "Algumas das bibliotecas usadas não fazem parte da distribuição padrão do Python.\n",
        "\n",
        "A célula abaixo realiza a instalação delas para garantir o funcionamento do código."
      ]
    },
    {
      "cell_type": "code",
      "execution_count": null,
      "metadata": {
        "id": "CqnbWoEjbVKP"
      },
      "outputs": [],
      "source": [
        "!pip install pandas\n",
        "!pip install googledrivedownloader"
      ]
    },
    {
      "cell_type": "markdown",
      "metadata": {
        "id": "dXkIr6tZbVKQ"
      },
      "source": [
        "# Questão 1) Coleta de dados"
      ]
    },
    {
      "cell_type": "markdown",
      "metadata": {
        "id": "shRRlyxxbVKQ"
      },
      "source": [
        "## Baixa microdados do ENADE do Google Drive"
      ]
    },
    {
      "cell_type": "code",
      "execution_count": null,
      "metadata": {
        "id": "Qw-2a_NzbVKQ"
      },
      "outputs": [],
      "source": [
        "from google_drive_downloader import GoogleDriveDownloader as gdd\n",
        "\n",
        "access_link_microdados_zip = 'https://drive.google.com/file/d/1buaKZzayV2tsYXo_Q6xM0jk57O03h5sI/view?usp=sharing'\n",
        "drive_ID_covid_dados = '1buaKZzayV2tsYXo_Q6xM0jk57O03h5sI'\n",
        "\n",
        "# Se o arquivo já existe, deleto e faço o download novamente\n",
        "if (os.path.isfile('./Microdados ENADE.zip')):\n",
        "    os.remove('./Microdados ENADE.zip')\n",
        "\n",
        "gdd.download_file_from_google_drive(drive_ID_covid_dados,'./Microdados ENADE.zip', unzip = True)"
      ]
    },
    {
      "cell_type": "markdown",
      "metadata": {
        "id": "VlE5UygzbVKR"
      },
      "source": [
        "Crio uma cópia dos dados .csv para a pasta Downloads para que o KNIME possa lê-los"
      ]
    },
    {
      "cell_type": "code",
      "execution_count": null,
      "metadata": {
        "id": "xPqDktRPbVKR"
      },
      "outputs": [],
      "source": [
        "import shutil\n",
        "\n",
        "# Copio pra pasta de downloads para que o KNIME possa ler\n",
        "def copyToDownloadFolder(file_path):\n",
        "    shutil.copy(file_path, os.path.join(os.getenv('USERPROFILE'), 'Downloads'))\n",
        "\n",
        "endereco_dados_2017 = os.path.join(os.getcwd(), 'Microdados ENADE', '2017', '3.DADOS', 'MICRODADOS_ENADE_2017.txt')\n",
        "endereco_dados_2018 = os.path.join(os.getcwd(), 'Microdados ENADE', '2018', '3.DADOS', 'MICRODADOS_ENADE_2018.txt')\n",
        "endereco_dados_2019 = os.path.join(os.getcwd(), 'Microdados ENADE', '2019', '3.DADOS', 'MICRODADOS_ENADE_2019.txt')\n",
        "\n",
        "copyToDownloadFolder(endereco_dados_2017)\n",
        "copyToDownloadFolder(endereco_dados_2018)\n",
        "copyToDownloadFolder(endereco_dados_2019)"
      ]
    },
    {
      "cell_type": "markdown",
      "metadata": {
        "id": "NqHmdfzvbVKS"
      },
      "source": [
        "# Questão 3) Cria o banco de dados"
      ]
    },
    {
      "cell_type": "markdown",
      "metadata": {
        "id": "rEJCq28IbVKS"
      },
      "source": [
        "Reaproveitando o código do trabalho em grupo para criar conexão com o Banco de Dados"
      ]
    },
    {
      "cell_type": "code",
      "execution_count": null,
      "metadata": {
        "id": "vn6clsElbVKT"
      },
      "outputs": [],
      "source": [
        "import sqlite3\n",
        "from sqlite3 import Error\n",
        "import os\n",
        "\n",
        "#https://www.sqlitetutorial.net/sqlite-python/\n",
        "\n",
        "def create_connection(db_file):\n",
        "    \"\"\" create a database connection to a SQLite database \"\"\"\n",
        "    conn = None\n",
        "    try:\n",
        "        conn = sqlite3.connect(db_file)\n",
        "        return conn\n",
        "    except Error as e:\n",
        "        print(e)\n",
        "\n",
        "def getPath():\n",
        "    return os.path.join(os.getcwd(), 'DW prova individual BD.db')\n",
        "\n",
        "if __name__ == '__main__':\n",
        "    conn = create_connection(getPath())"
      ]
    },
    {
      "cell_type": "markdown",
      "metadata": {
        "id": "JbVU-dMOhdq7"
      },
      "source": [
        "## Crio as tabelas seguindo a Modelagem Dimensional"
      ]
    },
    {
      "cell_type": "code",
      "execution_count": null,
      "metadata": {
        "id": "J_oLCZ_2hdq8"
      },
      "outputs": [],
      "source": [
        "def create_table(conn, create_table_sql):\n",
        "    \"\"\" create a table from the create_table_sql statement\n",
        "    :param conn: Connection object\n",
        "    :param create_table_sql: a CREATE TABLE statement\n",
        "    :return:\n",
        "    \"\"\"\n",
        "    try:\n",
        "        c = conn.cursor()\n",
        "        c.execute(create_table_sql)\n",
        "    except Error as e:\n",
        "        print(e)"
      ]
    },
    {
      "cell_type": "code",
      "execution_count": null,
      "metadata": {
        "id": "EJElPhlR7eff"
      },
      "outputs": [],
      "source": [
        "def main():\n",
        "    database = getPath()\n",
        "\n",
        "    # Crio a tabela fato ENADE\n",
        "    sql_create_table_ENADE = \"\"\"\n",
        "        CREATE TABLE IF NOT EXISTS ENADE(\n",
        "            FK_tempo_ID integer,\n",
        "            FK_info_curso_ID integer,\n",
        "            FK_estudante_ID integer,\n",
        "            FK_num_item_ID integer,\n",
        "            FK_vetor_ID integer,\n",
        "            FK_tipo_presenca_ID integer,\n",
        "            FK_tipo_sit_quest_disc_ID integer,\n",
        "            FK_nota_fg_ce_ID integer,\n",
        "            FK_questio_percep_prova_ID integer,\n",
        "            FK_questio_estudante_ID integer,\n",
        "            FOREIGN KEY (FK_tempo_ID) REFERENCES Tempo(tempo_ID),\n",
        "            FOREIGN KEY (FK_info_curso_ID) REFERENCES Info_Curso(info_curso_ID),\n",
        "            FOREIGN KEY (FK_estudante_ID) REFERENCES Estudante(estudante_ID),\n",
        "            FOREIGN KEY (FK_num_item_ID) REFERENCES Num_Item(num_item_ID),\n",
        "            FOREIGN KEY (FK_vetor_ID) REFERENCES Vetores(vetor_ID),\n",
        "            FOREIGN KEY (FK_tipo_presenca_ID) REFERENCES Tipo_Presenca(tipo_presenca_ID),\n",
        "            FOREIGN KEY (FK_tipo_sit_quest_disc_ID) REFERENCES Tipo_Sit_Quest_Disc(tipo_sit_quest_disc_ID),\n",
        "            FOREIGN KEY (FK_nota_fg_ce_ID) REFERENCES Nota_FG_CE(nota_fg_ce_ID),\n",
        "            FOREIGN KEY (FK_questio_percep_prova_ID) REFERENCES QuestioPercepProva(questio_percep_prova_ID),\n",
        "            FOREIGN KEY (FK_questio_estudante_ID) REFERENCES Questio_Estudante(questio_estudante_ID),\n",
        "            PRIMARY KEY (FK_tempo_ID, FK_info_curso_ID, FK_estudante_ID, FK_num_item_ID, FK_vetor_ID, FK_tipo_presenca_ID, FK_tipo_sit_quest_disc_ID, FK_nota_fg_ce_ID, FK_questio_percep_prova_ID, FK_questio_estudante_ID)\n",
        "        );\"\"\"\n",
        "\n",
        "    # Crio a tabela dimensão Tempo\n",
        "    sql_create_table_Tempo = \"\"\"\n",
        "        CREATE TABLE IF NOT EXISTS Tempo(\n",
        "            tempo_ID integer PRIMARY KEY AUTOINCREMENT,\n",
        "            NU_ANO integer,\n",
        "            ANO_FIM_EM integer,\n",
        "            ANO_IN_GRAD integer\n",
        "        );\"\"\"\n",
        "\n",
        "    # Crio a tabela dimensão Info_Curso\n",
        "    sql_create_table_Info_Curso = \"\"\"\n",
        "        CREATE TABLE IF NOT EXISTS Info_Curso(\n",
        "            info_curso_ID integer PRIMARY KEY AUTOINCREMENT,\n",
        "            CO_IES integer,\n",
        "            CO_CATEGAD integer,\n",
        "            CO_ORGACAD integer,\n",
        "            CO_GRUPO integer,\n",
        "            CO_CURSO integer,\n",
        "            CO_MODALIDADE integer,\n",
        "            CO_MUNIC_CURSO integer,\n",
        "            CO_UF_CURSO integer,\n",
        "            CO_REGIAO_CURSO integer\n",
        "        );\"\"\"\n",
        "\n",
        "    # Crio a tabela dimensão Estudante\n",
        "    sql_create_table_Estudante = \"\"\"\n",
        "        CREATE TABLE IF NOT EXISTS Estudante(\n",
        "            estudante_ID integer PRIMARY KEY AUTOINCREMENT,\n",
        "            NU_IDADE integer,\n",
        "            TP_SEXO text,\n",
        "            CO_TURNO_GRADUACAO integer,\n",
        "            TP_INSCRICAO_ADM integer,\n",
        "            TP_INSCRICAO integer\n",
        "        );\"\"\"\n",
        "\n",
        "    # Crio a tabela dimensão NU_Item\n",
        "    sql_create_table_NU_Item = \"\"\"\n",
        "        CREATE TABLE IF NOT EXISTS Num_Item(\n",
        "            num_item_ID integer PRIMARY KEY AUTOINCREMENT,\n",
        "            NU_ITEM_OFG integer,\n",
        "            NU_ITEM_OFG_Z integer,\n",
        "            NU_ITEM_OFG_X integer,\n",
        "            NU_ITEM_OFG_N integer,\n",
        "            NU_ITEM_OCE integer,\n",
        "            NU_ITEM_OCE_Z integer,\n",
        "            NU_ITEM_OCE_X integer,\n",
        "            NU_ITEM_OCE_N integer\n",
        "        );\"\"\"\n",
        "\n",
        "    # Crio a tabela dimensão Vetores\n",
        "    sql_create_table_Vetores = \"\"\"\n",
        "        CREATE TABLE IF NOT EXISTS Vetores(\n",
        "            vetor_ID integer PRIMARY KEY AUTOINCREMENT,\n",
        "            DS_VT_GAB_OFG_ORIG text,\n",
        "            DS_VT_GAB_OFG_FIN text,\n",
        "            DS_VT_GAB_OCE_ORIG text,\n",
        "            DS_VT_GAB_OCE_FIN text,\n",
        "            DS_VT_ESC_OFG text,\n",
        "            DS_VT_ACE_OFG integer,\n",
        "            DS_VT_ESC_OCE text,\n",
        "            DS_VT_ACE_OCE real\n",
        "        );\"\"\"\n",
        "\n",
        "    # Crio a tabela dimensão Tipo_Presenca\n",
        "    sql_create_table_Tipo_Presenca = \"\"\"\n",
        "        CREATE TABLE IF NOT EXISTS Tipo_Presenca(\n",
        "            tipo_presenca_ID integer PRIMARY KEY AUTOINCREMENT,\n",
        "            TP_PRES integer,\n",
        "            TP_PR_GER integer,\n",
        "            TP_PR_OB_FG integer,\n",
        "            TP_PR_DI_FG integer,\n",
        "            TP_PR_OB_CE integer,\n",
        "            TP_PR_DI_CE integer\n",
        "        );\"\"\"\n",
        "\n",
        "    # Crio a tabela dimensão Tipo_Sit_Quest_Disc\n",
        "    sql_create_table_Tipo_Sit_Quest_Disc = \"\"\"\n",
        "        CREATE TABLE IF NOT EXISTS Tipo_Sit_Quest_Disc(\n",
        "            tipo_sit_quest_disc_ID integer PRIMARY KEY AUTOINCREMENT,\n",
        "            TP_SFG_D1 integer,\n",
        "            TP_SFG_D2 integer,\n",
        "            TP_SCE_D1 integer,\n",
        "            TP_SCE_D2 integer,\n",
        "            TP_SCE_D3 integer\n",
        "        );\"\"\"\n",
        "\n",
        "    # Crio a tabela dimensão Nota_FG_CE\n",
        "    sql_create_table_Nota_FG_CE = \"\"\"\n",
        "        CREATE TABLE IF NOT EXISTS Nota_FG_CE(\n",
        "            nota_fg_ce_ID integer PRIMARY KEY AUTOINCREMENT,\n",
        "            NT_GER text,\n",
        "            NT_FG text,\n",
        "            NT_OBJ_FG text,\n",
        "            NT_DIS_FG text,\n",
        "            NT_FG_D1 integer,\n",
        "            NT_FG_D1_PT integer,\n",
        "            NT_FG_D1_CT integer,\n",
        "            NT_FG_D2 integer,\n",
        "            NT_FG_D2_PT integer,\n",
        "            NT_FG_D2_CT integer,\n",
        "            NT_CE text,\n",
        "            NT_OBJ_CE text,\n",
        "            NT_DIS_CE text,\n",
        "            NT_CE_D1 integer,\n",
        "            NT_CE_D2 integer,\n",
        "            NT_CE_D3 integer\n",
        "        );\"\"\"\n",
        "\n",
        "    # Crio a tabela dimensão QuestioPercepProva\n",
        "    sql_create_table_QuestioPercepProva = \"\"\"\n",
        "        CREATE TABLE IF NOT EXISTS QuestioPercepProva(\n",
        "            questio_percep_prova_ID integer PRIMARY KEY AUTOINCREMENT,\n",
        "            CO_RS_I1 text,\n",
        "            CO_RS_I2 text,\n",
        "            CO_RS_I3 text,\n",
        "            CO_RS_I4 text,\n",
        "            CO_RS_I5 text,\n",
        "            CO_RS_I6 text,\n",
        "            CO_RS_I7 text,\n",
        "            CO_RS_I8 text,\n",
        "            CO_RS_I9 text\n",
        "        );\"\"\"\n",
        "\n",
        "    # Crio a tabela dimensão Questio_Estudante\n",
        "    sql_create_table_Questio_Estudante = \"\"\"\n",
        "        CREATE TABLE IF NOT EXISTS Questio_Estudante(\n",
        "            questio_estudante_ID integer PRIMARY KEY AUTOINCREMENT,\n",
        "            string_questionario_estudante text\n",
        "        );\"\"\"\n",
        "\n",
        "    # create a database connection\n",
        "    conn = create_connection(database)\n",
        "\n",
        "    # create tables\n",
        "    if conn is not None:\n",
        "        create_table(conn, sql_create_table_ENADE)\n",
        "        create_table(conn, sql_create_table_Tempo)\n",
        "        create_table(conn, sql_create_table_Info_Curso)\n",
        "        create_table(conn, sql_create_table_Estudante)\n",
        "        create_table(conn, sql_create_table_NU_Item)\n",
        "        create_table(conn, sql_create_table_Vetores)\n",
        "        create_table(conn, sql_create_table_Tipo_Presenca)\n",
        "        create_table(conn, sql_create_table_Tipo_Sit_Quest_Disc)\n",
        "        create_table(conn, sql_create_table_Nota_FG_CE)\n",
        "        create_table(conn, sql_create_table_QuestioPercepProva)\n",
        "        create_table(conn, sql_create_table_Questio_Estudante)\n",
        "    else:\n",
        "        print(\"ERROR: cannot create the database connection.\")"
      ]
    },
    {
      "cell_type": "code",
      "execution_count": null,
      "metadata": {
        "id": "r-7SXNhWhdq9"
      },
      "outputs": [],
      "source": [
        "if __name__ == '__main__':\n",
        "    main()"
      ]
    },
    {
      "cell_type": "markdown",
      "metadata": {
        "id": "jrslvX6o7efg"
      },
      "source": [
        "# Questão 4) Carga de dados"
      ]
    },
    {
      "cell_type": "markdown",
      "metadata": {
        "id": "zsQgfeWl7efg"
      },
      "source": [
        "## Inserindo os dados no Banco de Dados"
      ]
    },
    {
      "cell_type": "code",
      "execution_count": null,
      "metadata": {
        "id": "95Ff46Xe7efg"
      },
      "outputs": [],
      "source": [
        "import pandas as pd\n",
        "\n",
        "#function that insert csv data into database\n",
        "def insert_data(df, table_name):\n",
        "    conn = create_connection(getPath())\n",
        "    df.to_sql(table_name, conn, if_exists='append', index=False)\n",
        "\n",
        "# Colunas de cada tabela SQL\n",
        "Tempo_atributos = ['NU_ANO', 'ANO_FIM_EM', 'ANO_IN_GRAD']\n",
        "Info_Curso_atributos = ['CO_IES', 'CO_CATEGAD', 'CO_ORGACAD', 'CO_GRUPO', 'CO_CURSO', 'CO_MODALIDADE', 'CO_MUNIC_CURSO', 'CO_UF_CURSO', 'CO_REGIAO_CURSO']\n",
        "Estudante_atributos = ['NU_IDADE', 'TP_SEXO', 'CO_TURNO_GRADUACAO', 'TP_INSCRICAO_ADM', 'TP_INSCRICAO']\n",
        "Num_Item_atributos = ['NU_ITEM_OFG', 'NU_ITEM_OFG_Z', 'NU_ITEM_OFG_X', 'NU_ITEM_OFG_N', 'NU_ITEM_OCE', 'NU_ITEM_OCE_Z', 'NU_ITEM_OCE_X', 'NU_ITEM_OCE_N']\n",
        "Vetores_atributos = ['DS_VT_GAB_OFG_ORIG', 'DS_VT_GAB_OFG_FIN', 'DS_VT_GAB_OCE_ORIG', 'DS_VT_GAB_OCE_FIN', 'DS_VT_ESC_OFG', 'DS_VT_ACE_OFG', 'DS_VT_ESC_OCE', 'DS_VT_ACE_OCE']\n",
        "Tipo_Presenca_atributos = ['TP_PRES', 'TP_PR_GER', 'TP_PR_OB_FG', 'TP_PR_DI_FG', 'TP_PR_OB_CE', 'TP_PR_DI_CE']\n",
        "Tipo_Sit_Quest_Disc_atributos = ['TP_SFG_D1', 'TP_SFG_D2', 'TP_SCE_D1', 'TP_SCE_D2', 'TP_SCE_D3']\n",
        "Nota_FG_CE_atributos = ['NT_GER', 'NT_FG', 'NT_OBJ_FG', 'NT_DIS_FG', 'NT_FG_D1', 'NT_FG_D1_PT', 'NT_FG_D1_CT', 'NT_FG_D2', 'NT_FG_D2_PT', 'NT_FG_D2_CT', 'NT_CE', 'NT_OBJ_CE', 'NT_DIS_CE', 'NT_CE_D1', 'NT_CE_D2', 'NT_CE_D3']\n",
        "QuestioPercepProva_atributos = ['CO_RS_I1', 'CO_RS_I2', 'CO_RS_I3', 'CO_RS_I4', 'CO_RS_I5', 'CO_RS_I6', 'CO_RS_I7', 'CO_RS_I8', 'CO_RS_I9']\n",
        "Questio_Estudante_atributos = []"
      ]
    },
    {
      "cell_type": "code",
      "execution_count": null,
      "metadata": {
        "id": "wUU9_Q5p7efh"
      },
      "outputs": [],
      "source": [
        "def insertDataENADE(dataCSV, data_pandas, cols, database_table_name):\n",
        "    data_pandas = pd.read_csv(dataCSV, usecols = cols, sep = ';')\n",
        "    insert_data(data_pandas, database_table_name)\n",
        "\n",
        "def insertDataENADEAllYears(data_pandas, cols, database_table_name):\n",
        "    insertDataENADE(endereco_dados_2017, data_pandas, cols, database_table_name)\n",
        "    insertDataENADE(endereco_dados_2018, data_pandas, cols, database_table_name)\n",
        "    insertDataENADE(endereco_dados_2019, data_pandas, cols, database_table_name)"
      ]
    },
    {
      "cell_type": "code",
      "execution_count": null,
      "metadata": {
        "id": "Y5_yG0xb7efh"
      },
      "outputs": [],
      "source": [
        "Tempo_pandas = []\n",
        "Info_Curso_pandas = []\n",
        "Estudante_pandas = []\n",
        "Num_Item_pandas = []\n",
        "Vetores_pandas = []\n",
        "Tipo_Presenca_pandas = []\n",
        "Tipo_Sit_Quest_Disc_pandas = []\n",
        "Nota_FG_CE_pandas = []\n",
        "QuestioPercepProva_pandas = []\n",
        "Questio_Estudante_pandas = []\n",
        "\n",
        "insertDataENADEAllYears(Tempo_pandas, Tempo_atributos, 'Tempo')\n",
        "insertDataENADEAllYears(Info_Curso_pandas, Info_Curso_atributos, 'Info_Curso')\n",
        "insertDataENADEAllYears(Estudante_pandas, Estudante_atributos, 'Estudante')\n",
        "insertDataENADEAllYears(Num_Item_pandas, Num_Item_atributos, 'Num_Item')\n",
        "insertDataENADEAllYears(Vetores_pandas, Vetores_atributos, 'Vetores')\n",
        "insertDataENADEAllYears(Tipo_Presenca_pandas, Tipo_Presenca_atributos, 'Tipo_Presenca')\n",
        "insertDataENADEAllYears(Tipo_Sit_Quest_Disc_pandas, Tipo_Sit_Quest_Disc_atributos, 'Tipo_Sit_Quest_Disc')\n",
        "insertDataENADEAllYears(Nota_FG_CE_pandas, Nota_FG_CE_atributos, 'Nota_FG_CE')\n",
        "insertDataENADEAllYears(QuestioPercepProva_pandas, QuestioPercepProva_atributos, 'QuestioPercepProva')\n",
        "#insertDataENADEAllYears(Questio_Estudante_pandas, Questio_Estudante_atributos, 'Questio_Estudante')"
      ]
    }
  ],
  "metadata": {
    "colab": {
      "name": "DW_prova_individual.ipynb",
      "provenance": []
    },
    "interpreter": {
      "hash": "a343bea681f747650dfb8943b10a4128e801da192d498cc8da39074ad26c5da2"
    },
    "kernelspec": {
      "display_name": "Python 3.9.9 64-bit (windows store)",
      "language": "python",
      "name": "python3"
    },
    "language_info": {
      "codemirror_mode": {
        "name": "ipython",
        "version": 3
      },
      "file_extension": ".py",
      "mimetype": "text/x-python",
      "name": "python",
      "nbconvert_exporter": "python",
      "pygments_lexer": "ipython3",
      "version": "3.9.9"
    },
    "orig_nbformat": 4
  },
  "nbformat": 4,
  "nbformat_minor": 0
}
